{
 "cells": [
  {
   "cell_type": "code",
   "execution_count": 1,
   "metadata": {
    "collapsed": false
   },
   "outputs": [],
   "source": [
    "#\n",
    "# This is just a toy A/B test using PyMC. \n",
    "#\n",
    "\n",
    "\n",
    "import pymc\n",
    "import pymc.graph\n",
    "import scipy\n",
    "import numpy as np\n",
    "import matplotlib.pyplot as plt\n",
    "%matplotlib inline"
   ]
  },
  {
   "cell_type": "code",
   "execution_count": 7,
   "metadata": {
    "collapsed": false
   },
   "outputs": [],
   "source": [
    "#\n",
    "# Generate some fake data - \n",
    "#   conversions for variant A and for variant B\n",
    "#\n",
    "observations = 1000\n",
    "true_pA = 0.60\n",
    "true_pB = 0.65\n",
    "conversions_a = scipy.stats.bernoulli.rvs(true_pA, size=observations)\n",
    "conversions_b = scipy.stats.bernoulli.rvs(true_pB, size=observations)\n",
    "\n",
    "#\n",
    "# Define the model.\n",
    "#\n",
    "\n",
    "#\n",
    "# pA = Probability that A has a 'conversion'\n",
    "# Uniform on 0 to 1.\n",
    "#\n",
    "\n",
    "pA = pymc.Uniform(\"pA\", 0, 1)\n",
    "pB = pymc.Uniform(\"pB\", 0, 1)\n",
    "\n",
    "#\n",
    "# The conversion rates for a and b modeled as bernoulli's with\n",
    "#   our priors above as the p parameters (prob of success/conv.)\n",
    "#   our fake data from the top of the cell as what was actually observed.\n",
    "#\n",
    "\n",
    "a = pymc.Bernoulli(\"a\", pA, value=conversions_a, observed=True)\n",
    "b = pymc.Bernoulli(\"b\", pB, value=conversions_b, observed=True)\n",
    "\n",
    "#\n",
    "# The difference between pA and pB -- what we're after.\n",
    "#\n",
    "\n",
    "@pymc.deterministic\n",
    "def diff(pA=pA, pB=pB):\n",
    "    return (pB - pA)\n",
    "\n",
    "model = pymc.Model([diff, a, b, pA, pB])\n",
    "\n"
   ]
  },
  {
   "cell_type": "code",
   "execution_count": 13,
   "metadata": {
    "collapsed": false
   },
   "outputs": [
    {
     "data": {
      "image/png": "[encoded data removed]",
      "text/plain": [
       "<IPython.core.display.Image object>"
      ]
     },
     "execution_count": 13,
     "metadata": {},
     "output_type": "execute_result"
    }
   ],
   "source": [
    "#\n",
    "# Draw the model.\n",
    "#\n",
    "\n",
    "graph = pymc.graph.graph(model)\n",
    "graph.write_png('temp_model1.png')\n",
    "from IPython.display import Image\n",
    "Image(filename='temp_model1.png') \n"
   ]
  },
  {
   "cell_type": "code",
   "execution_count": 19,
   "metadata": {
    "collapsed": false
   },
   "outputs": [
    {
     "name": "stdout",
     "output_type": "stream",
     "text": [
      " [-----------------100%-----------------] 50000 of 50000 complete in 7.5 sec"
     ]
    }
   ],
   "source": [
    "#\n",
    "# Sample the model\n",
    "#\n",
    "\n",
    "mcmc = pymc.MCMC(model)\n",
    "mcmc.sample(iter=50000, burn=10000, thin=10)"
   ]
  },
  {
   "cell_type": "code",
   "execution_count": 22,
   "metadata": {
    "collapsed": false
   },
   "outputs": [
    {
     "name": "stdout",
     "output_type": "stream",
     "text": [
      "Probability that B is better than A 0.96675\n"
     ]
    },
    {
     "data": {
      "image/png": "[encoded data removed]",
      "text/plain": [
       "<matplotlib.figure.Figure at 0x1f441016b70>"
      ]
     },
     "metadata": {},
     "output_type": "display_data"
    }
   ],
   "source": [
    "print(\"Probability that B is better than A \" + str((mcmc.trace('diff')[:] > 0).mean()))\n",
    "_ = plt.hist(mcmc.trace('diff')[:], bins=50)"
   ]
  }
 ],
 "metadata": {
  "kernelspec": {
   "display_name": "Python [Root]",
   "language": "python",
   "name": "Python [Root]"
  },
  "language_info": {
   "codemirror_mode": {
    "name": "ipython",
    "version": 3
   },
   "file_extension": ".py",
   "mimetype": "text/x-python",
   "name": "python",
   "nbconvert_exporter": "python",
   "pygments_lexer": "ipython3",
   "version": "3.5.2"
  },
  "nbpresent": {
   "slides": {},
   "themes": {
    "default": "c64e8e2b-f983-4963-9d31-16cdf0d1617e",
    "theme": {
     "c64e8e2b-f983-4963-9d31-16cdf0d1617e": {
      "backgrounds": {
       "dc7afa04-bf90-40b1-82a5-726e3cff5267": {
        "background-color": "31af15d2-7e15-44c5-ab5e-e04b16a89eff",
        "id": "dc7afa04-bf90-40b1-82a5-726e3cff5267"
       }
      },
      "id": "c64e8e2b-f983-4963-9d31-16cdf0d1617e",
      "palette": {
       "19cc588f-0593-49c9-9f4b-e4d7cc113b1c": {
        "id": "19cc588f-0593-49c9-9f4b-e4d7cc113b1c",
        "rgb": [
         252,
         252,
         252
        ]
       },
       "31af15d2-7e15-44c5-ab5e-e04b16a89eff": {
        "id": "31af15d2-7e15-44c5-ab5e-e04b16a89eff",
        "rgb": [
         68,
         68,
         68
        ]
       },
       "50f92c45-a630-455b-aec3-788680ec7410": {
        "id": "50f92c45-a630-455b-aec3-788680ec7410",
        "rgb": [
         197,
         226,
         245
        ]
       },
       "c5cc3653-2ee1-402a-aba2-7caae1da4f6c": {
        "id": "c5cc3653-2ee1-402a-aba2-7caae1da4f6c",
        "rgb": [
         43,
         126,
         184
        ]
       },
       "efa7f048-9acb-414c-8b04-a26811511a21": {
        "id": "efa7f048-9acb-414c-8b04-a26811511a21",
        "rgb": [
         25.118061674008803,
         73.60176211453744,
         107.4819383259912
        ]
       }
      },
      "rules": {
       "a": {
        "color": "19cc588f-0593-49c9-9f4b-e4d7cc113b1c"
       },
       "blockquote": {
        "color": "50f92c45-a630-455b-aec3-788680ec7410",
        "font-size": 3
       },
       "code": {
        "font-family": "Anonymous Pro"
       },
       "h1": {
        "color": "19cc588f-0593-49c9-9f4b-e4d7cc113b1c",
        "font-family": "Merriweather",
        "font-size": 8
       },
       "h2": {
        "color": "19cc588f-0593-49c9-9f4b-e4d7cc113b1c",
        "font-family": "Merriweather",
        "font-size": 6
       },
       "h3": {
        "color": "50f92c45-a630-455b-aec3-788680ec7410",
        "font-family": "Lato",
        "font-size": 5.5
       },
       "h4": {
        "color": "c5cc3653-2ee1-402a-aba2-7caae1da4f6c",
        "font-family": "Lato",
        "font-size": 5
       },
       "h5": {
        "font-family": "Lato"
       },
       "h6": {
        "font-family": "Lato"
       },
       "h7": {
        "font-family": "Lato"
       },
       "li": {
        "color": "50f92c45-a630-455b-aec3-788680ec7410",
        "font-size": 3.25
       },
       "pre": {
        "font-family": "Anonymous Pro",
        "font-size": 4
       }
      },
      "text-base": {
       "color": "19cc588f-0593-49c9-9f4b-e4d7cc113b1c",
       "font-family": "Lato",
       "font-size": 4
      }
     }
    }
   }
  }
 },
 "nbformat": 4,
 "nbformat_minor": 0
}
